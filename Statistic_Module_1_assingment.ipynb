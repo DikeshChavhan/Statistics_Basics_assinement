{
  "nbformat": 4,
  "nbformat_minor": 0,
  "metadata": {
    "colab": {
      "provenance": []
    },
    "kernelspec": {
      "name": "python3",
      "display_name": "Python 3"
    },
    "language_info": {
      "name": "python"
    }
  },
  "cells": [
    {
      "cell_type": "code",
      "execution_count": null,
      "metadata": {
        "id": "afKJnjgujooO"
      },
      "outputs": [],
      "source": []
    },
    {
      "cell_type": "markdown",
      "source": [
        "# **Statistics Basics**\n",
        "\n",
        "\n",
        "1.What is statistics, and why is it important?\n",
        "Ans:Statistics is a branch of mathematics that deals with the collection, analysis, interpretation, presentation, and organization of data. It provides methods for making sense of complex information, identifying patterns, and drawing conclusions from data.\n",
        "\n",
        "2.What are the two main types of statistics?\n",
        "Ans: Descriptive Statistics\n",
        "Inferential Statistics\n",
        "\n",
        "3.What are descriptive statistics?\n",
        "Ans:Descriptive statistics are methods used to summarize, organize, and present data in a meaningful way. They provide a concise overview of the main features of a dataset without making inferences or predictions about a larger population. Common descriptive statistics include measures of central tendency (mean, median, mode) and measures of dispersion (range, variance, standard deviation).\n",
        "\n",
        "\n",
        " 4.What is inferential statistics?\n",
        " Ans:Inferential statistics involves using data from a sample to make predictions, inferences, or generalizations about a larger population. It uses probability theory to draw conclusions and test hypotheses, allowing researchers to extend their findings beyond the immediate data collected.\n",
        "\n",
        "\n",
        " 5.What is sampling in statistics?\n",
        " Ans:Sampling in statistics is the process of selecting a subset (a sample) of individuals or observations from a larger group (a population) to gather information and make inferences about the entire population. It's often impractical or impossible to collect data from every member of a population, so sampling allows for efficient data collection.\n",
        "\n",
        "\n",
        " 6.What are the different types of sampling methods?\n",
        " Ans:\n",
        " (1) Probability sampling\n",
        " simple random sampling\n",
        " systmatic samplig\n",
        " stratified sampling\n",
        " cluster sampling\n",
        "\n",
        " 7.What is the difference between random and non-random sampling?\n",
        " Ans: Random sampling:Each unit has a known, non-zero probability of being selected.Aims to minimize bias and produce representative samples.Results can be generalized to the larger population with a measurable level of confidence.Allows for statistical inference and hypothesis testing.Simple random, systematic, stratified, cluster.\n",
        "\n",
        " Non-Random sampling:Selection is based on convenience, judgment, or other non-random criteria.Prone to sampling bias, as selection is not truly random.Generalization to the population is limited or not possible.Does not allow for reliable statistical inference about the population.Convenience, quota, purposive, snowball.\n",
        "\n",
        " 8.Define and give examples of qualitative and quantitative data?\n",
        " Ans:Qualitative Data (Categorical Data): Describes qualities or characteristics that cannot be measured numerically. It classifies items into categories.\n",
        "\n",
        "Examples: Hair color (blonde, brown, black), type of car (sedan, SUV, truck), favorite color (red, blue, green), gender (male, female).\n",
        "\n",
        "Quantitative Data (Numerical Data): Represents quantities that can be measured numerically.\n",
        "\n",
        "Examples: Height (in cm), weight (in kg), age (in years), number of siblings, temperature (in Celsius or Fahrenheit).\n",
        "\n",
        " 9.What are the different types of data in statistics?\n",
        " Ans:Qualitative (Categorical) Data:\n",
        "\n",
        "Nominal: Categories with no inherent order (e.g., colors, marital status).\n",
        "\n",
        "Ordinal: Categories with a meaningful order but unequal intervals (e.g., education levels: high school, bachelor's, master's).\n",
        "\n",
        "Quantitative (Numerical) Data:\n",
        "\n",
        "Discrete Data: Can only take specific, distinct values, often counts (e.g., number of students, number of cars). It typically involves whole numbers.\n",
        "\n",
        "Continuous Data: Can take any value within a given range, often measurements (e.g., height, weight, temperature, time).\n",
        "\n",
        " 10.Explain nominal, ordinal, interval, and ratio levels of measurement?\n",
        " Ans:Nominal Level:\n",
        "\n",
        "Definition: Data are categorized without any order or ranking. Only \"different from\" relationships can be established.\n",
        "\n",
        "Characteristics: Labels or names. No numerical value.\n",
        "\n",
        "Examples: Gender (male, female), eye color (blue, brown, green), types of fruit (apple, banana, orange).\n",
        "\n",
        "Permissible Operations: Counting frequencies, mode.\n",
        "\n",
        "Ordinal Level:\n",
        "\n",
        "Definition: Data are categorized with a meaningful order or rank, but the differences between categories are not meaningful or consistent.\n",
        "\n",
        "Characteristics: Ordered categories.\n",
        "\n",
        "Examples: Education level (high school, some college, bachelor's, master's, Ph.D.), Likert scales (strongly disagree, disagree, neutral, agree, strongly agree), movie ratings (bad, fair, good, excellent).\n",
        "\n",
        "Permissible Operations: Mode, median, ranking.\n",
        "\n",
        "Interval Level:\n",
        "\n",
        "Definition: Data have a meaningful order, and the differences between values are meaningful and consistent. However, there is no true zero point (zero does not indicate the absence of the quantity).\n",
        "\n",
        "Characteristics: Ordered, equal intervals. No true zero.\n",
        "\n",
        "Examples: Temperature in Celsius or Fahrenheit (0°C doesn't mean no temperature), IQ scores.\n",
        "\n",
        "Permissible Operations: Mode, median, mean, addition, subtraction. Ratios are not meaningful.\n",
        "\n",
        "Ratio Level:\n",
        "\n",
        "Definition: Data have all the characteristics of interval data, plus a true and meaningful absolute zero point (zero indicates the absence of the quantity). Ratios are meaningful.\n",
        "\n",
        "Characteristics: Ordered, equal intervals, true zero.\n",
        "\n",
        "Examples: Height, weight, age, income, number of items sold, length.\n",
        "\n",
        " 11.What is the measure of central tendency?\n",
        " Ans:It is a value that represents the center or average of a dataset (mean, median, or mode)\n",
        "\n",
        " 12.Define mean, median, and mode?\n",
        " Ans: Mean: The average of all values.\n",
        "  Median: The middle value in ordered data.\n",
        "  Mode: The most frequent value.\n",
        "\n",
        " 13.What is the significance of the measure of central tendency?\n",
        " Ans: It helps to understand and summarize a large set of data with a single representative value.\n",
        "\n",
        " 14.What is variance, and how is it calculated?\n",
        " Ans:Variance shows how spread out data is.\n",
        "\n",
        " 15.What is skewness in a dataset?\n",
        " Ans:Skewness: Shows if data is symmetrical or skewed (left or right).\n",
        "\n",
        " 16.What is standard deviation, and why is it important?\n",
        " Ans:Standard Deviation: Measures how much values deviate from the mean; important for understanding data spread.\n",
        "\n",
        " 17.Define and explain the term range in statistics?\n",
        " Ans:Range is the difference between the highest and lowest values.\n",
        "Formula: Range=Max−Min\n",
        "\n",
        " 18.What is the difference between variance and standard deviation?\n",
        "Ans:Variance is the average of squared differences from the mean, while standard deviation is the square root of variance.\n",
        "\n",
        "\n",
        " 19.What does it mean if a dataset is positively or negatively skewed?\n",
        "Ans:Positively skewed: Tail is on the right; more low values.\n",
        "Negatively skewed: Tail is on the left; more high value\n",
        "\n",
        " 20.Define and explain kurtosis?\n",
        "Ans:Kurtosis measures how sharp or flat the peak of the data distribution is compared to a normal curve.\n",
        "\n",
        "\n",
        " 21.What is the purpose of covariance?\n",
        "Ans:Covariance shows whether two variables move together (positive) or in opposite directions (negative).\n",
        "\n",
        "\n",
        " 22.What does correlation measure in statistics?\n",
        "Ans:Correlation measures the strength and direction of the relationship between two variables (from -1 to +1).\n",
        "\n",
        " 23.What is the difference between covariance and correlation?\n",
        "Ans:Covariance: Shows direction of relationship.\n",
        "Correlation: Standardized value showing both direction and strength.\n",
        "\n",
        " 24.What are some real-world applications of statistics?\n",
        " Ans:Used in healthcare, business, education, sports, weather forecasting, economics, and research to make informed decisions.\n",
        "\n"
      ],
      "metadata": {
        "id": "crkGopvsjzx4"
      }
    },
    {
      "cell_type": "markdown",
      "source": [
        "# **Practical**"
      ],
      "metadata": {
        "id": "8FR61BjX97ks"
      }
    },
    {
      "cell_type": "code",
      "source": [
        " #1.How do you calculate the mean, median, and mode of a dataset?\n",
        "import statistics\n",
        "\n",
        "data = [4, 7, 1, 8, 7, 9, 7]\n",
        "mean = statistics.mean(data)\n",
        "median = statistics.median(data)\n",
        "mode = statistics.mode(data)\n",
        "\n",
        "print(\"Mean:\", mean)\n",
        "print(\"Median:\", median)\n",
        "print(\"Mode:\", mode)\n"
      ],
      "metadata": {
        "colab": {
          "base_uri": "https://localhost:8080/"
        },
        "id": "8t5Qno1Dk8QL",
        "outputId": "be4e82e4-014b-4501-e356-c6f49f9831ce"
      },
      "execution_count": 2,
      "outputs": [
        {
          "output_type": "stream",
          "name": "stdout",
          "text": [
            "Mean: 6.142857142857143\n",
            "Median: 7\n",
            "Mode: 7\n"
          ]
        }
      ]
    },
    {
      "cell_type": "code",
      "source": [
        " #2.Write a Python program to compute the variance and standard deviation of a dataset?\n",
        "import statistics\n",
        "\n",
        "data = [10, 20, 30, 40, 50]\n",
        "variance = statistics.variance(data)\n",
        "std_dev = statistics.stdev(data)\n",
        "\n",
        "print(\"Variance:\", variance)\n",
        "print(\"Standard Deviation:\", std_dev)\n"
      ],
      "metadata": {
        "colab": {
          "base_uri": "https://localhost:8080/"
        },
        "id": "ITs7oeA9lAnc",
        "outputId": "39c65b5c-3c8a-4885-9d52-e980552fa4de"
      },
      "execution_count": 3,
      "outputs": [
        {
          "output_type": "stream",
          "name": "stdout",
          "text": [
            "Variance: 250\n",
            "Standard Deviation: 15.811388300841896\n"
          ]
        }
      ]
    },
    {
      "cell_type": "code",
      "source": [
        " #3.Create a dataset and classify it into nominal, ordinal, interval, and ratio types?\n",
        "dataset = {\"Nominal\": [\"Red\", \"Blue\", \"Green\"],\"Ordinal\": [\"Poor\", \"Average\", \"Good\", \"Excellent\"],\"Interval\": [10, 20, 30, 40],\n",
        "    \"Ratio\": [5, 10, 15, 20]}\n",
        "\n",
        "print(dataset)\n"
      ],
      "metadata": {
        "colab": {
          "base_uri": "https://localhost:8080/"
        },
        "id": "unCekciOlSGQ",
        "outputId": "6cd2b549-f964-4e2a-edec-bd7591d770d6"
      },
      "execution_count": 6,
      "outputs": [
        {
          "output_type": "stream",
          "name": "stdout",
          "text": [
            "{'Nominal': ['Red', 'Blue', 'Green'], 'Ordinal': ['Poor', 'Average', 'Good', 'Excellent'], 'Interval': [10, 20, 30, 40], 'Ratio': [5, 10, 15, 20]}\n"
          ]
        }
      ]
    },
    {
      "cell_type": "code",
      "source": [
        " #4.Implement sampling techniques like random sampling and stratified sampling\n",
        "import random\n",
        "import pandas as pd\n",
        "from sklearn.model_selection import train_test_split\n",
        "\n",
        "data = pd.DataFrame({\n",
        "    'Group': ['A'] * 5 + ['B'] * 5,\n",
        "    'Value': range(10)\n",
        "})\n",
        "\n",
        "random_sample = data.sample(n=4)\n",
        "stratified_sample = data.groupby('Group', group_keys=False).apply(lambda x: x.sample(2))\n",
        "\n",
        "print(\"Random Sample:\\n\", random_sample)\n",
        "print(\"\\nStratified Sample:\\n\", stratified_sample)\n"
      ],
      "metadata": {
        "colab": {
          "base_uri": "https://localhost:8080/"
        },
        "id": "n4z9eWUnloRp",
        "outputId": "64d54b53-077f-4ca6-b4e6-0da02552ec09"
      },
      "execution_count": 7,
      "outputs": [
        {
          "output_type": "stream",
          "name": "stdout",
          "text": [
            "Random Sample:\n",
            "   Group  Value\n",
            "1     A      1\n",
            "9     B      9\n",
            "8     B      8\n",
            "6     B      6\n",
            "\n",
            "Stratified Sample:\n",
            "   Group  Value\n",
            "2     A      2\n",
            "3     A      3\n",
            "9     B      9\n",
            "8     B      8\n"
          ]
        },
        {
          "output_type": "stream",
          "name": "stderr",
          "text": [
            "/tmp/ipython-input-7-148174121.py:12: DeprecationWarning: DataFrameGroupBy.apply operated on the grouping columns. This behavior is deprecated, and in a future version of pandas the grouping columns will be excluded from the operation. Either pass `include_groups=False` to exclude the groupings or explicitly select the grouping columns after groupby to silence this warning.\n",
            "  stratified_sample = data.groupby('Group', group_keys=False).apply(lambda x: x.sample(2))\n"
          ]
        }
      ]
    },
    {
      "cell_type": "code",
      "source": [
        " #5.Write a Python function to calculate the range of a dataset?\n",
        "def calc_range(data):\n",
        "    return max(data) - min(data)\n",
        "\n",
        "data = [2, 7, 4, 9, 5]\n",
        "print(\"Range:\", calc_range(data))\n"
      ],
      "metadata": {
        "colab": {
          "base_uri": "https://localhost:8080/"
        },
        "id": "MhBTV2CemV8t",
        "outputId": "364340a4-b826-4b24-c155-b2111acc8f93"
      },
      "execution_count": 9,
      "outputs": [
        {
          "output_type": "stream",
          "name": "stdout",
          "text": [
            "Range: 7\n"
          ]
        }
      ]
    },
    {
      "cell_type": "code",
      "source": [
        " #6.Create a dataset and plot its histogram to visualize skewness?\n",
        "import matplotlib.pyplot as plt\n",
        "\n",
        "data = [1, 2, 2, 3, 3, 4, 4, 10]\n",
        "\n",
        "plt.hist(data, bins=5)\n",
        "plt.title(\"Histogram\")\n",
        "plt.xlabel(\"Value\")\n",
        "plt.ylabel(\"Frequency\")\n",
        "plt.show()\n"
      ],
      "metadata": {
        "colab": {
          "base_uri": "https://localhost:8080/",
          "height": 472
        },
        "id": "Ut_lyw4Kmckr",
        "outputId": "4d4b4dc7-743a-4e80-da06-4d02427d979d"
      },
      "execution_count": 10,
      "outputs": [
        {
          "output_type": "display_data",
          "data": {
            "text/plain": [
              "<Figure size 640x480 with 1 Axes>"
            ],
            "image/png": "[encoded data removed]"
          },
          "metadata": {}
        }
      ]
    },
    {
      "cell_type": "code",
      "source": [
        "#7.Calculate skewness and kurtosis of a dataset using Python libraries?\n",
        "from scipy.stats import skew, kurtosis\n",
        "\n",
        "data = [2, 2, 3, 4, 5, 6, 6, 7, 10]\n",
        "print(\"Skewness:\", skew(data))\n",
        "print(\"Kurtosis:\", kurtosis(data))\n"
      ],
      "metadata": {
        "colab": {
          "base_uri": "https://localhost:8080/"
        },
        "id": "sdEmn9lEm03c",
        "outputId": "0bba001c-0aab-4b6f-eb33-5cb41ed33cb2"
      },
      "execution_count": 14,
      "outputs": [
        {
          "output_type": "stream",
          "name": "stdout",
          "text": [
            "Skewness: 0.5443310539518174\n",
            "Kurtosis: -0.46296296296296324\n"
          ]
        }
      ]
    },
    {
      "cell_type": "code",
      "source": [
        "#8.Generate a dataset and demonstrate positive and negative skewness?\n",
        "import matplotlib.pyplot as plt\n",
        "\n",
        "pos_skew = [1, 2, 3, 4, 5, 10]\n",
        "neg_skew = [10, 9, 8, 7, 6, 1]\n",
        "\n",
        "plt.figure(figsize=(10, 4))\n",
        "\n",
        "plt.subplot(1, 2, 1)\n",
        "plt.hist(pos_skew, bins=5)\n",
        "plt.title(\"Positive Skew\")\n",
        "\n",
        "plt.subplot(1, 2, 2)\n",
        "plt.hist(neg_skew, bins=5)\n",
        "plt.title(\"Negative Skew\")\n",
        "\n",
        "plt.show()\n"
      ],
      "metadata": {
        "colab": {
          "base_uri": "https://localhost:8080/",
          "height": 391
        },
        "id": "Uz8kHm2sm4Dw",
        "outputId": "64a5ddbd-746f-4f96-9839-919a27e7eaef"
      },
      "execution_count": 18,
      "outputs": [
        {
          "output_type": "display_data",
          "data": {
            "text/plain": [
              "<Figure size 1000x400 with 2 Axes>"
            ],
            "image/png": "[encoded data removed]"
          },
          "metadata": {}
        }
      ]
    },
    {
      "cell_type": "code",
      "source": [
        " #9.Write a Python script to calculate covariance between two datasets?\n",
        " import numpy as np\n",
        "\n",
        "x = [1, 2, 3, 4, 5]\n",
        "y = [10, 20, 30, 40, 50]\n",
        "cov_matrix = np.cov(x, y)\n",
        "print(\"Covariance:\", cov_matrix[0][1])\n"
      ],
      "metadata": {
        "colab": {
          "base_uri": "https://localhost:8080/"
        },
        "id": "1eicWF4-m_WC",
        "outputId": "cbe71499-8147-4e6e-e984-c685e58ca3d3"
      },
      "execution_count": 16,
      "outputs": [
        {
          "output_type": "stream",
          "name": "stdout",
          "text": [
            "Covariance: 25.0\n"
          ]
        }
      ]
    },
    {
      "cell_type": "code",
      "source": [
        "#10.Write a Python script to calculate the correlation coefficient between two datasets?\n",
        "import numpy as np\n",
        "\n",
        "x = [10, 20, 30, 40, 50]\n",
        "y = [15, 25, 35, 45, 55]\n",
        "corr_matrix = np.corrcoef(x, y)\n",
        "print(\"Correlation Coefficient:\", corr_matrix[0][1])\n"
      ],
      "metadata": {
        "colab": {
          "base_uri": "https://localhost:8080/"
        },
        "id": "PM_npFfxnFFs",
        "outputId": "71eb84a8-1324-4cb1-d455-771d94655d7f"
      },
      "execution_count": 17,
      "outputs": [
        {
          "output_type": "stream",
          "name": "stdout",
          "text": [
            "Correlation Coefficient: 1.0\n"
          ]
        }
      ]
    },
    {
      "cell_type": "code",
      "source": [
        "#11.Create a scatter plot to visualize the relationship between two variables?\n",
        "import matplotlib.pyplot as plt\n",
        "\n",
        "x = [1, 2, 3, 4, 5]\n",
        "y = [2, 4, 6, 8, 10]\n",
        "\n",
        "plt.scatter(x, y)\n",
        "plt.title(\"Scatter Plot\")\n",
        "plt.xlabel(\"X\")\n",
        "plt.ylabel(\"Y\")\n",
        "plt.show()\n"
      ],
      "metadata": {
        "colab": {
          "base_uri": "https://localhost:8080/",
          "height": 472
        },
        "id": "7ixcsx5unKNv",
        "outputId": "7dc7cd19-a2f8-4399-cf7f-f4ac3b025453"
      },
      "execution_count": 19,
      "outputs": [
        {
          "output_type": "display_data",
          "data": {
            "text/plain": [
              "<Figure size 640x480 with 1 Axes>"
            ],
            "image/png": "[encoded data removed]"
          },
          "metadata": {}
        }
      ]
    },
    {
      "cell_type": "code",
      "source": [
        "#12.Implement and compare simple random sampling and systematic sampling?\n",
        "import pandas as pd\n",
        "import numpy as np\n",
        "\n",
        "data = pd.DataFrame({'Value': range(1, 21)})\n",
        "\n",
        "# Simple Random Sampling\n",
        "random_sample = data.sample(n=5)\n",
        "\n",
        "# Systematic Sampling\n",
        "k = 4\n",
        "systematic_sample = data.iloc[::k]\n",
        "\n",
        "print(\"Random Sample:\\n\", random_sample)\n",
        "print(\"\\nSystematic Sample:\\n\", systematic_sample)\n"
      ],
      "metadata": {
        "colab": {
          "base_uri": "https://localhost:8080/"
        },
        "id": "S_ULodxznQdx",
        "outputId": "e0f35022-928c-4a6a-9ca9-4495315b7114"
      },
      "execution_count": 20,
      "outputs": [
        {
          "output_type": "stream",
          "name": "stdout",
          "text": [
            "Random Sample:\n",
            "     Value\n",
            "14     15\n",
            "13     14\n",
            "15     16\n",
            "11     12\n",
            "2       3\n",
            "\n",
            "Systematic Sample:\n",
            "     Value\n",
            "0       1\n",
            "4       5\n",
            "8       9\n",
            "12     13\n",
            "16     17\n"
          ]
        }
      ]
    },
    {
      "cell_type": "code",
      "source": [
        "#13.Calculate the mean, median, and mode of grouped data?\n",
        "import pandas as pd\n",
        "from scipy import stats\n",
        "\n",
        "data = pd.DataFrame({\n",
        "    'class': ['0-10', '10-20', '20-30'],\n",
        "    'frequency': [5, 10, 5]\n",
        "})\n",
        "\n",
        "data['mid'] = [5, 15, 25]\n",
        "mean = sum(data['mid'] * data['frequency']) / sum(data['frequency'])\n",
        "\n",
        "print(\"Grouped Mean:\", mean)"
      ],
      "metadata": {
        "colab": {
          "base_uri": "https://localhost:8080/"
        },
        "id": "DqeorVMpnVBS",
        "outputId": "55e6deae-4db1-4dfa-f2c5-7dacf5e67e61"
      },
      "execution_count": 22,
      "outputs": [
        {
          "output_type": "stream",
          "name": "stdout",
          "text": [
            "Grouped Mean: 15.0\n"
          ]
        }
      ]
    },
    {
      "cell_type": "code",
      "source": [
        "#14.Simulate data using Python and calculate its central tendency and dispersion.?\n",
        "import numpy as np\n",
        "\n",
        "data = np.random.normal(50, 10, 100)\n",
        "print(\"Mean:\", np.mean(data))\n",
        "print(\"Median:\", np.median(data))\n",
        "print(\"Std Dev:\", np.std(data))\n"
      ],
      "metadata": {
        "colab": {
          "base_uri": "https://localhost:8080/"
        },
        "id": "S0Cdz51QnZrP",
        "outputId": "93826d89-7445-4643-d80f-38efb5fc7b08"
      },
      "execution_count": 23,
      "outputs": [
        {
          "output_type": "stream",
          "name": "stdout",
          "text": [
            "Mean: 49.552011069528255\n",
            "Median: 49.26440018096669\n",
            "Std Dev: 9.1583091369941\n"
          ]
        }
      ]
    },
    {
      "cell_type": "code",
      "source": [
        "#15.Use NumPy or pandas to summarize a dataset’s descriptive statistics\n",
        "import pandas as pd\n",
        "import numpy as np\n",
        "\n",
        "data = pd.Series(np.random.randint(10, 100, 50))\n",
        "print(data.describe())\n"
      ],
      "metadata": {
        "colab": {
          "base_uri": "https://localhost:8080/"
        },
        "id": "DTNDhpwbncG9",
        "outputId": "103b6396-aaf8-43b6-b92b-62338a029e7f"
      },
      "execution_count": 33,
      "outputs": [
        {
          "output_type": "stream",
          "name": "stdout",
          "text": [
            "count    50.000000\n",
            "mean     57.140000\n",
            "std      26.786389\n",
            "min      10.000000\n",
            "25%      36.000000\n",
            "50%      65.000000\n",
            "75%      80.750000\n",
            "max      99.000000\n",
            "dtype: float64\n"
          ]
        }
      ]
    },
    {
      "cell_type": "code",
      "source": [
        "#16.Plot a boxplot to understand the spread and identify outliers\n",
        "import matplotlib.pyplot as plt\n",
        "import numpy as np\n",
        "\n",
        "data = np.random.normal(0, 1, 100)\n",
        "plt.boxplot(data)\n",
        "plt.title(\"Boxplot\")\n",
        "plt.show()\n"
      ],
      "metadata": {
        "colab": {
          "base_uri": "https://localhost:8080/",
          "height": 452
        },
        "id": "wHMDFB7boO7r",
        "outputId": "7c6ce697-cada-437b-f899-6d1d528e0705"
      },
      "execution_count": 34,
      "outputs": [
        {
          "output_type": "display_data",
          "data": {
            "text/plain": [
              "<Figure size 640x480 with 1 Axes>"
            ],
            "image/png": "[encoded data removed]"
          },
          "metadata": {}
        }
      ]
    },
    {
      "cell_type": "code",
      "source": [
        "#17.Calculate the interquartile range (IQR) of a dataset\n",
        "import numpy as np\n",
        "\n",
        "data = np.random.randint(1, 100, 50)\n",
        "q1 = np.percentile(data, 25)\n",
        "q3 = np.percentile(data, 75)\n",
        "iqr = q3 - q1\n",
        "\n",
        "print(\"IQR:\", iqr)\n"
      ],
      "metadata": {
        "colab": {
          "base_uri": "https://localhost:8080/"
        },
        "id": "7c7PPVQkoS4x",
        "outputId": "d5dabefa-3915-4f31-867f-e7019be071f2"
      },
      "execution_count": 35,
      "outputs": [
        {
          "output_type": "stream",
          "name": "stdout",
          "text": [
            "IQR: 45.25\n"
          ]
        }
      ]
    },
    {
      "cell_type": "code",
      "source": [
        "#18.Implement Z-score normalization and explain its significance\n",
        "from scipy.stats import zscore\n",
        "import numpy as np\n",
        "\n",
        "data = np.array([10, 20, 30, 40, 50])\n",
        "z_scores = zscore(data)\n",
        "\n",
        "print(\"Z-Scores:\", z_scores)\n"
      ],
      "metadata": {
        "colab": {
          "base_uri": "https://localhost:8080/"
        },
        "id": "FGjKj6hMoWfL",
        "outputId": "65c0f8ed-ac7b-42ba-891d-fc82fa2a2a0d"
      },
      "execution_count": 36,
      "outputs": [
        {
          "output_type": "stream",
          "name": "stdout",
          "text": [
            "Z-Scores: [-1.41421356 -0.70710678  0.          0.70710678  1.41421356]\n"
          ]
        }
      ]
    },
    {
      "cell_type": "code",
      "source": [
        "#19.Compare two datasets using their standard deviations\n",
        "import numpy as np\n",
        "\n",
        "a = [10, 20, 30, 40, 50]\n",
        "b = [15, 17, 25, 33, 35]\n",
        "\n",
        "print(\"Std A:\", np.std(a))\n",
        "print(\"Std B:\", np.std(b))\n"
      ],
      "metadata": {
        "colab": {
          "base_uri": "https://localhost:8080/"
        },
        "id": "syEYzLftoaNa",
        "outputId": "6dcc7f37-496a-47a6-fcc8-30b254dd520b"
      },
      "execution_count": 37,
      "outputs": [
        {
          "output_type": "stream",
          "name": "stdout",
          "text": [
            "Std A: 14.142135623730951\n",
            "Std B: 8.099382692526634\n"
          ]
        }
      ]
    },
    {
      "cell_type": "code",
      "source": [
        "#20.Write a Python program to visualize covariance using a heatmap\n",
        "import seaborn as sns\n",
        "import pandas as pd\n",
        "import numpy as np\n",
        "import matplotlib.pyplot as plt\n",
        "\n",
        "data = pd.DataFrame({\n",
        "    'X': np.random.randint(1, 50, 100),\n",
        "    'Y': np.random.randint(1, 50, 100)\n",
        "})\n",
        "\n",
        "sns.heatmap(data.cov(), annot=True, cmap=\"coolwarm\")\n",
        "plt.title(\"Covariance Heatmap\")\n",
        "plt.show()\n"
      ],
      "metadata": {
        "colab": {
          "base_uri": "https://localhost:8080/",
          "height": 452
        },
        "id": "Z0vSJ1TAoe-0",
        "outputId": "5b54f351-699f-4f99-d42c-0483ce9ed18e"
      },
      "execution_count": 38,
      "outputs": [
        {
          "output_type": "display_data",
          "data": {
            "text/plain": [
              "<Figure size 640x480 with 2 Axes>"
            ],
            "image/png": "[encoded data removed]"
          },
          "metadata": {}
        }
      ]
    },
    {
      "cell_type": "code",
      "source": [
        "#21.Use seaborn to create a correlation matrix for a dataset\n",
        "import seaborn as sns\n",
        "import pandas as pd\n",
        "import matplotlib.pyplot as plt\n",
        "\n",
        "df = pd.DataFrame({\n",
        "    'A': np.random.rand(100),\n",
        "    'B': np.random.rand(100),\n",
        "    'C': np.random.rand(100)\n",
        "})\n",
        "\n",
        "sns.heatmap(df.corr(), annot=True, cmap=\"viridis\")\n",
        "plt.title(\"Correlation Matrix\")\n",
        "plt.show()\n"
      ],
      "metadata": {
        "colab": {
          "base_uri": "https://localhost:8080/",
          "height": 452
        },
        "id": "wDQ1woIdoiGd",
        "outputId": "d78551c0-0464-4d98-87f3-216661aee05c"
      },
      "execution_count": 39,
      "outputs": [
        {
          "output_type": "display_data",
          "data": {
            "text/plain": [
              "<Figure size 640x480 with 2 Axes>"
            ],
            "image/png": "[encoded data removed]"
          },
          "metadata": {}
        }
      ]
    },
    {
      "cell_type": "code",
      "source": [
        "#22.Generate a dataset and implement both variance and standard deviation computations\n",
        "import numpy as np\n",
        "\n",
        "data = np.random.randint(1, 100, 20)\n",
        "print(\"Variance:\", np.var(data))\n",
        "print(\"Standard Deviation:\", np.std(data))\n"
      ],
      "metadata": {
        "id": "ZWUHEoqaolMl"
      },
      "execution_count": 31,
      "outputs": []
    },
    {
      "cell_type": "code",
      "source": [
        "#23.Visualize skewness and kurtosis using Python libraries like matplotlib or seaborn\n",
        "import seaborn as sns\n",
        "import matplotlib.pyplot as plt\n",
        "from scipy.stats import skew, kurtosis\n",
        "import numpy as np\n",
        "\n",
        "data = np.random.normal(0, 1, 1000)\n",
        "sns.histplot(data, kde=True)\n",
        "plt.title(f\"Skewness: {skew(data):.2f} | Kurtosis: {kurtosis(data):.2f}\")\n",
        "plt.show()\n"
      ],
      "metadata": {
        "colab": {
          "base_uri": "https://localhost:8080/",
          "height": 452
        },
        "id": "2wYN8J17oowu",
        "outputId": "b0f7af79-c4d1-43b2-fc2f-a3dc79baa041"
      },
      "execution_count": 40,
      "outputs": [
        {
          "output_type": "display_data",
          "data": {
            "text/plain": [
              "<Figure size 640x480 with 1 Axes>"
            ],
            "image/png": "[encoded data removed]"
          },
          "metadata": {}
        }
      ]
    },
    {
      "cell_type": "code",
      "source": [
        "#24.Implement the Pearson and Spearman correlation coefficients for a dataset.\n",
        "from scipy.stats import pearsonr, spearmanr\n",
        "\n",
        "x = [10, 20, 30, 40, 50]\n",
        "y = [15, 25, 35, 45, 60]\n",
        "\n",
        "pearson_corr, _ = pearsonr(x, y)\n",
        "spearman_corr, _ = spearmanr(x, y)\n",
        "\n",
        "print(\"Pearson Correlation:\", pearson_corr)\n",
        "print(\"Spearman Correlation:\", spearman_corr)\n"
      ],
      "metadata": {
        "colab": {
          "base_uri": "https://localhost:8080/"
        },
        "id": "AZlazoWxot6-",
        "outputId": "70b8449e-c83d-478d-c4a4-d00cd69c60e9"
      },
      "execution_count": 41,
      "outputs": [
        {
          "output_type": "stream",
          "name": "stdout",
          "text": [
            "Pearson Correlation: 0.9958932064677037\n",
            "Spearman Correlation: 0.9999999999999999\n"
          ]
        }
      ]
    },
    {
      "cell_type": "code",
      "source": [],
      "metadata": {
        "id": "muJ8vFW8oxm7"
      },
      "execution_count": null,
      "outputs": []
    }
  ]
}